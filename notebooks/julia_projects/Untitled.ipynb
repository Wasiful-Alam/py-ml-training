{
 "cells": [
  {
   "cell_type": "code",
   "execution_count": null,
   "id": "6ea024df-f2e0-464a-8a2d-f68a0a04c43d",
   "metadata": {},
   "outputs": [],
   "source": [
    "println(\"Hello\")"
   ]
  },
  {
   "cell_type": "code",
   "execution_count": null,
   "id": "fc1f9547-076f-425d-85d5-52cfc5115597",
   "metadata": {},
   "outputs": [],
   "source": [
    "println(\"Hello\")"
   ]
  },
  {
   "cell_type": "code",
   "execution_count": null,
   "id": "2f73c221-49f1-42b3-aa1f-899f9756272d",
   "metadata": {},
   "outputs": [],
   "source": [
    "x=12"
   ]
  },
  {
   "cell_type": "code",
   "execution_count": null,
   "id": "d402b44c-ee9b-436b-9352-8e361670559f",
   "metadata": {},
   "outputs": [],
   "source": []
  }
 ],
 "metadata": {
  "kernelspec": {
   "display_name": "Julia 1.5.2",
   "language": "julia",
   "name": "julia-1.5"
  },
  "language_info": {
   "name": ""
  }
 },
 "nbformat": 4,
 "nbformat_minor": 5
}
