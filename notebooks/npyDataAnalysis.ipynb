{
 "cells": [
  {
   "cell_type": "code",
   "execution_count": 5,
   "id": "4cd5a152-9c59-4d9c-aa89-642cd4d75843",
   "metadata": {},
   "outputs": [
    {
     "data": {
      "text/plain": [
       "1"
      ]
     },
     "execution_count": 5,
     "metadata": {},
     "output_type": "execute_result"
    }
   ],
   "source": [
    "import numpy as np\n",
    "mylist=[1,2,3,4]\n",
    "arr=np.array(mylist)# np changes list into array\n",
    "arr\n",
    "\n",
    "list2=[[1,2,3],[4,5,6],[7,8,6]]\n",
    "np.array(list2)#NP CONVERTS LIST INTO 3 DIMENTIIONAL ARRAY\n",
    "list2[0][0] # FINDS OUT THE FIRST VALUE OF FIRST ELEMENT IN LIST LIKE MATRICX... 00,01,02,03,10,12,13,...."
   ]
  },
  {
   "cell_type": "code",
   "execution_count": 7,
   "id": "4bb04681-ad6e-415e-8739-6b6a90136cb9",
   "metadata": {},
   "outputs": [
    {
     "data": {
      "text/plain": [
       "array([0, 1, 2, 3, 4, 5, 6, 7, 8, 9])"
      ]
     },
     "execution_count": 7,
     "metadata": {},
     "output_type": "execute_result"
    }
   ],
   "source": [
    "np.arange(0,10)"
   ]
  },
  {
   "cell_type": "code",
   "execution_count": 9,
   "id": "82f42782-a3c1-48ff-93ac-280e06d94a92",
   "metadata": {},
   "outputs": [
    {
     "data": {
      "text/plain": [
       "array([0, 2, 4, 6, 8])"
      ]
     },
     "execution_count": 9,
     "metadata": {},
     "output_type": "execute_result"
    }
   ],
   "source": [
    "np.arange(0,10,2)#jumping 2 steps each time"
   ]
  },
  {
   "cell_type": "code",
   "execution_count": 10,
   "id": "f7ed5de2-00e2-43b9-bc37-002223221457",
   "metadata": {},
   "outputs": [
    {
     "data": {
      "text/plain": [
       "array([[0., 0., 0.],\n",
       "       [0., 0., 0.]])"
      ]
     },
     "execution_count": 10,
     "metadata": {},
     "output_type": "execute_result"
    }
   ],
   "source": [
    "np.zeros((2,3)) #making a metricx of 2 row and 3 column"
   ]
  },
  {
   "cell_type": "code",
   "execution_count": 12,
   "id": "b6b3ff37-076b-4f59-859e-2dc4168c4ec2",
   "metadata": {},
   "outputs": [
    {
     "data": {
      "text/plain": [
       "array([0.        , 0.55555556, 1.11111111, 1.66666667, 2.22222222,\n",
       "       2.77777778, 3.33333333, 3.88888889, 4.44444444, 5.        ])"
      ]
     },
     "execution_count": 12,
     "metadata": {},
     "output_type": "execute_result"
    }
   ],
   "source": [
    "np.linspace(0,5,10)# here 10 is the number of points starts countiong from 0 and will have 5 columns"
   ]
  },
  {
   "cell_type": "code",
   "execution_count": 15,
   "id": "7c4dd1a1-2503-4aec-ba0a-df4bee319e83",
   "metadata": {},
   "outputs": [
    {
     "data": {
      "text/plain": [
       "array([0.03586933, 0.66657837, 0.03516615, 0.8592392 , 0.94706431])"
      ]
     },
     "execution_count": 15,
     "metadata": {},
     "output_type": "execute_result"
    }
   ],
   "source": [
    "np.random.rand(5)"
   ]
  },
  {
   "cell_type": "code",
   "execution_count": 17,
   "id": "2755d706-5375-413e-b6f6-ee94b479fe5f",
   "metadata": {},
   "outputs": [
    {
     "data": {
      "text/plain": [
       "array([ 0,  1,  2,  3,  4,  5,  6,  7,  8,  9, 10, 11, 12, 13, 14, 15, 16,\n",
       "       17, 18, 19, 20, 21, 22, 23, 24])"
      ]
     },
     "execution_count": 17,
     "metadata": {},
     "output_type": "execute_result"
    }
   ],
   "source": [
    "np.arange(25)"
   ]
  },
  {
   "cell_type": "code",
   "execution_count": 22,
   "id": "91f0ae59-e24a-42a8-9751-b069902495ba",
   "metadata": {},
   "outputs": [
    {
     "data": {
      "text/plain": [
       "array([2, 3, 1, 4, 2, 4, 3, 1, 3, 0])"
      ]
     },
     "execution_count": 22,
     "metadata": {},
     "output_type": "execute_result"
    }
   ],
   "source": [
    "np.random.randint(0,5,10)#take 0 to 5 and print them 10 times"
   ]
  },
  {
   "cell_type": "code",
   "execution_count": 29,
   "id": "baeccc48-3c5e-404f-bbe9-e4f1cb500f0c",
   "metadata": {},
   "outputs": [
    {
     "data": {
      "text/plain": [
       "array([[ 0,  1,  2,  3,  4],\n",
       "       [ 5,  6,  7,  8,  9],\n",
       "       [10, 11, 12, 13, 14],\n",
       "       [15, 16, 17, 18, 19],\n",
       "       [20, 21, 22, 23, 24]])"
      ]
     },
     "execution_count": 29,
     "metadata": {},
     "output_type": "execute_result"
    }
   ],
   "source": [
    "arry=np.arange(25)\n",
    "arry.reshape(5,5)"
   ]
  },
  {
   "cell_type": "code",
   "execution_count": 30,
   "id": "d020bae2-b4ed-4456-b824-cfe38a673ff5",
   "metadata": {},
   "outputs": [
    {
     "data": {
      "text/plain": [
       "24"
      ]
     },
     "execution_count": 30,
     "metadata": {},
     "output_type": "execute_result"
    }
   ],
   "source": [
    "arry.max()"
   ]
  },
  {
   "cell_type": "code",
   "execution_count": 32,
   "id": "6aac7151-6973-4532-a715-02979cd94ea3",
   "metadata": {},
   "outputs": [
    {
     "data": {
      "text/plain": [
       "0"
      ]
     },
     "execution_count": 32,
     "metadata": {},
     "output_type": "execute_result"
    }
   ],
   "source": [
    "arry.min()"
   ]
  },
  {
   "cell_type": "code",
   "execution_count": 109,
   "id": "d91c3000-3ae1-4926-9762-1f543797edcc",
   "metadata": {},
   "outputs": [
    {
     "name": "stdout",
     "output_type": "stream",
     "text": [
      "[ 2 14 20 14]\n"
     ]
    },
    {
     "data": {
      "text/plain": [
       "2"
      ]
     },
     "execution_count": 109,
     "metadata": {},
     "output_type": "execute_result"
    }
   ],
   "source": [
    "# arry=np.random.randint(0,25,4)#take 0 to 5 and print them 10 times\n",
    "# print(arry)\n",
    "arry.argmax()#shoes the position of max value"
   ]
  },
  {
   "cell_type": "code",
   "execution_count": 111,
   "id": "860fe33a-0088-4f23-97ab-7f4130b4f9ed",
   "metadata": {},
   "outputs": [
    {
     "data": {
      "text/plain": [
       "(4,)"
      ]
     },
     "execution_count": 111,
     "metadata": {},
     "output_type": "execute_result"
    }
   ],
   "source": [
    "arry.shape"
   ]
  },
  {
   "cell_type": "code",
   "execution_count": 112,
   "id": "f0a22817-c12e-4a1e-98a0-dcd822b2fe2b",
   "metadata": {},
   "outputs": [
    {
     "data": {
      "text/plain": [
       "dtype('int64')"
      ]
     },
     "execution_count": 112,
     "metadata": {},
     "output_type": "execute_result"
    }
   ],
   "source": [
    "arr.dtype"
   ]
  },
  {
   "cell_type": "code",
   "execution_count": 114,
   "id": "621f863a-b70e-4dd5-9a6d-ef98836b17cb",
   "metadata": {},
   "outputs": [],
   "source": [
    "from numpy.random import randint"
   ]
  },
  {
   "cell_type": "code",
   "execution_count": 184,
   "id": "38f151e0-91b7-4ca7-aeab-030ff83c60f4",
   "metadata": {},
   "outputs": [
    {
     "data": {
      "text/plain": [
       "2"
      ]
     },
     "execution_count": 184,
     "metadata": {},
     "output_type": "execute_result"
    }
   ],
   "source": [
    "randint(2,10)"
   ]
  },
  {
   "cell_type": "code",
   "execution_count": 186,
   "id": "f5ab0342-7c84-4bbd-9cc7-cda618e5dd90",
   "metadata": {},
   "outputs": [
    {
     "data": {
      "text/plain": [
       "array([1, 2, 3, 4])"
      ]
     },
     "execution_count": 186,
     "metadata": {},
     "output_type": "execute_result"
    }
   ],
   "source": [
    "arr[0:6]"
   ]
  },
  {
   "cell_type": "code",
   "execution_count": 193,
   "id": "81468d9b-2244-4da9-88b7-5445dda40429",
   "metadata": {},
   "outputs": [
    {
     "data": {
      "text/plain": [
       "array([3, 3, 3, 3])"
      ]
     },
     "execution_count": 193,
     "metadata": {},
     "output_type": "execute_result"
    }
   ],
   "source": [
    "arr[3:6]=3\n",
    "arr"
   ]
  },
  {
   "cell_type": "code",
   "execution_count": 195,
   "id": "a26a4c88-7b7b-4011-8d98-00dbd1446a53",
   "metadata": {},
   "outputs": [
    {
     "data": {
      "text/plain": [
       "array([0., 0., 0., 0., 0., 0., 0., 0., 0., 0.])"
      ]
     },
     "execution_count": 195,
     "metadata": {},
     "output_type": "execute_result"
    }
   ],
   "source": [
    "#arr of 10 0\n",
    "np.zeros(10)"
   ]
  },
  {
   "cell_type": "code",
   "execution_count": 197,
   "id": "be35589e-12e5-49ef-b898-324a88c7abd3",
   "metadata": {},
   "outputs": [
    {
     "data": {
      "text/plain": [
       "array([10, 11, 12, 13, 14, 15, 16, 17, 18, 19, 20, 21, 22, 23, 24, 25, 26,\n",
       "       27, 28, 29, 30, 31, 32, 33, 34, 35, 36, 37, 38, 39, 40, 41, 42, 43,\n",
       "       44, 45, 46, 47, 48, 49, 50])"
      ]
     },
     "execution_count": 197,
     "metadata": {},
     "output_type": "execute_result"
    }
   ],
   "source": [
    "np.arange(10,51)#10 to 50"
   ]
  },
  {
   "cell_type": "code",
   "execution_count": 198,
   "id": "bb43d6ab-94d4-434e-aa31-74eb43cbc125",
   "metadata": {},
   "outputs": [
    {
     "data": {
      "text/plain": [
       "array([10, 12, 14, 16, 18, 20, 22, 24, 26, 28, 30, 32, 34, 36, 38, 40, 42,\n",
       "       44, 46, 48, 50])"
      ]
     },
     "execution_count": 198,
     "metadata": {},
     "output_type": "execute_result"
    }
   ],
   "source": [
    "np.arange(10,51,2)#stepsize 2 gives all the even numbers"
   ]
  },
  {
   "cell_type": "code",
   "execution_count": 200,
   "id": "911ef191-6807-4f05-a5df-8b1b11d43000",
   "metadata": {},
   "outputs": [
    {
     "data": {
      "text/plain": [
       "array([[0, 1, 2],\n",
       "       [3, 4, 5],\n",
       "       [6, 7, 8]])"
      ]
     },
     "execution_count": 200,
     "metadata": {},
     "output_type": "execute_result"
    }
   ],
   "source": [
    "np.arange(9).reshape(3,3) #making a 3by 3 matrix from the value 0 to 8"
   ]
  },
  {
   "cell_type": "code",
   "execution_count": 201,
   "id": "b5291020-01a2-4426-b769-0d8a36dd4c16",
   "metadata": {},
   "outputs": [
    {
     "data": {
      "text/plain": [
       "array([[1., 0., 0.],\n",
       "       [0., 1., 0.],\n",
       "       [0., 0., 1.]])"
      ]
     },
     "execution_count": 201,
     "metadata": {},
     "output_type": "execute_result"
    }
   ],
   "source": [
    "np.eye(3)"
   ]
  },
  {
   "cell_type": "code",
   "execution_count": 203,
   "id": "2318ed8b-8f9f-4e30-9532-ee94ddeaa561",
   "metadata": {},
   "outputs": [
    {
     "data": {
      "text/plain": [
       "array([0.45827767, 0.81724464, 0.90126655, 0.94592488, 0.22003002,\n",
       "       0.13702311, 0.45088228, 0.47608216, 0.68746083, 0.39509156,\n",
       "       0.32105951, 0.22748246, 0.34708077, 0.14558502, 0.9830927 ,\n",
       "       0.34565698, 0.41525589, 0.88506306, 0.6426288 , 0.44677407,\n",
       "       0.65688496, 0.19620509, 0.2287755 , 0.87016068, 0.64610624])"
      ]
     },
     "execution_count": 203,
     "metadata": {},
     "output_type": "execute_result"
    }
   ],
   "source": [
    "np.random.rand(25)"
   ]
  },
  {
   "cell_type": "code",
   "execution_count": 205,
   "id": "578b03f8-6e6a-4815-9b8d-a53bb9f0fae0",
   "metadata": {},
   "outputs": [
    {
     "data": {
      "text/plain": [
       "array([[0.01, 0.02, 0.03, 0.04, 0.05, 0.06, 0.07, 0.08, 0.09, 0.1 ],\n",
       "       [0.11, 0.12, 0.13, 0.14, 0.15, 0.16, 0.17, 0.18, 0.19, 0.2 ],\n",
       "       [0.21, 0.22, 0.23, 0.24, 0.25, 0.26, 0.27, 0.28, 0.29, 0.3 ],\n",
       "       [0.31, 0.32, 0.33, 0.34, 0.35, 0.36, 0.37, 0.38, 0.39, 0.4 ],\n",
       "       [0.41, 0.42, 0.43, 0.44, 0.45, 0.46, 0.47, 0.48, 0.49, 0.5 ],\n",
       "       [0.51, 0.52, 0.53, 0.54, 0.55, 0.56, 0.57, 0.58, 0.59, 0.6 ],\n",
       "       [0.61, 0.62, 0.63, 0.64, 0.65, 0.66, 0.67, 0.68, 0.69, 0.7 ],\n",
       "       [0.71, 0.72, 0.73, 0.74, 0.75, 0.76, 0.77, 0.78, 0.79, 0.8 ],\n",
       "       [0.81, 0.82, 0.83, 0.84, 0.85, 0.86, 0.87, 0.88, 0.89, 0.9 ],\n",
       "       [0.91, 0.92, 0.93, 0.94, 0.95, 0.96, 0.97, 0.98, 0.99, 1.  ]])"
      ]
     },
     "execution_count": 205,
     "metadata": {},
     "output_type": "execute_result"
    }
   ],
   "source": [
    "np.arange(1,101).reshape(10,10)/100# took 100 values made a 10 by 10 metrix and devide each value by 100"
   ]
  },
  {
   "cell_type": "code",
   "execution_count": 207,
   "id": "1f55e2ca-db24-4a08-9f31-d1a0d650834e",
   "metadata": {},
   "outputs": [
    {
     "data": {
      "text/plain": [
       "array([[0.51, 0.52, 0.53, 0.54, 0.55, 0.56, 0.57, 0.58, 0.59, 0.6 ],\n",
       "       [0.61, 0.62, 0.63, 0.64, 0.65, 0.66, 0.67, 0.68, 0.69, 0.7 ],\n",
       "       [0.71, 0.72, 0.73, 0.74, 0.75, 0.76, 0.77, 0.78, 0.79, 0.8 ],\n",
       "       [0.81, 0.82, 0.83, 0.84, 0.85, 0.86, 0.87, 0.88, 0.89, 0.9 ],\n",
       "       [0.91, 0.92, 0.93, 0.94, 0.95, 0.96, 0.97, 0.98, 0.99, 1.  ]])"
      ]
     },
     "execution_count": 207,
     "metadata": {},
     "output_type": "execute_result"
    }
   ],
   "source": [
    "newarry=np.arange(1,101).reshape(10,10)/100\n",
    "newarry[5:,:]#every thing grabbed after row 5"
   ]
  },
  {
   "cell_type": "code",
   "execution_count": 208,
   "id": "7a93b317-1b32-4ee4-9617-1e1d00c66a87",
   "metadata": {},
   "outputs": [
    {
     "data": {
      "text/plain": [
       "array([[0.57, 0.58, 0.59, 0.6 ],\n",
       "       [0.67, 0.68, 0.69, 0.7 ],\n",
       "       [0.77, 0.78, 0.79, 0.8 ],\n",
       "       [0.87, 0.88, 0.89, 0.9 ],\n",
       "       [0.97, 0.98, 0.99, 1.  ]])"
      ]
     },
     "execution_count": 208,
     "metadata": {},
     "output_type": "execute_result"
    }
   ],
   "source": [
    "newarry[5:,6:] # every thing grabed after row 5 and column 6"
   ]
  },
  {
   "cell_type": "code",
   "execution_count": 210,
   "id": "de0526f3-7a66-46fb-85a7-226db2cc1251",
   "metadata": {},
   "outputs": [
    {
     "data": {
      "text/plain": [
       "50.5"
      ]
     },
     "execution_count": 210,
     "metadata": {},
     "output_type": "execute_result"
    }
   ],
   "source": [
    "newarry.sum()"
   ]
  },
  {
   "cell_type": "code",
   "execution_count": 211,
   "id": "c1c4d53e-626e-462b-8677-9e71aa03f139",
   "metadata": {},
   "outputs": [
    {
     "data": {
      "text/plain": [
       "0.2886607004772212"
      ]
     },
     "execution_count": 211,
     "metadata": {},
     "output_type": "execute_result"
    }
   ],
   "source": [
    "newarry.std()"
   ]
  },
  {
   "cell_type": "code",
   "execution_count": 212,
   "id": "5bf8c6b5-2303-49e9-9eb4-5e4483dd10ba",
   "metadata": {},
   "outputs": [
    {
     "data": {
      "text/plain": [
       "array([4.6, 4.7, 4.8, 4.9, 5. , 5.1, 5.2, 5.3, 5.4, 5.5])"
      ]
     },
     "execution_count": 212,
     "metadata": {},
     "output_type": "execute_result"
    }
   ],
   "source": [
    "newarry.sum(axis=0)"
   ]
  }
 ],
 "metadata": {
  "kernelspec": {
   "display_name": "Python 3 (ipykernel)",
   "language": "python",
   "name": "python3"
  },
  "language_info": {
   "codemirror_mode": {
    "name": "ipython",
    "version": 3
   },
   "file_extension": ".py",
   "mimetype": "text/x-python",
   "name": "python",
   "nbconvert_exporter": "python",
   "pygments_lexer": "ipython3",
   "version": "3.9.10"
  }
 },
 "nbformat": 4,
 "nbformat_minor": 5
}
