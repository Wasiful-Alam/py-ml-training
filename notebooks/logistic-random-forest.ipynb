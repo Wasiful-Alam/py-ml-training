{
 "cells": [
  {
   "cell_type": "code",
   "execution_count": 55,
   "id": "49a87908-d39c-4a5a-ac39-0a57b979b8ce",
   "metadata": {},
   "outputs": [],
   "source": [
    "import pandas as pd\n",
    "import numpy as np\n",
    "from sklearn.model_selection import train_test_split\n",
    "from sklearn.preprocessing import MinMaxScaler\n",
    "from sklearn.linear_model import LogisticRegression\n",
    "from sklearn.ensemble import RandomForestClassifier\n",
    "import matplotlib.pyplot as plt\n",
    "from sklearn.feature_selection import SelectFromModel"
   ]
  },
  {
   "cell_type": "code",
   "execution_count": 2,
   "id": "c65f03d4-2c07-4e3c-adf2-1407e36bb07d",
   "metadata": {},
   "outputs": [],
   "source": [
    "def read_wine_data() -> pd.DataFrame:\n",
    "    df_wine = pd.read_csv(\n",
    "        'https://archive.ics.uci.edu/ml/machine-learning-databases/wine/wine.data',\n",
    "        header=None\n",
    "    )\n",
    "\n",
    "    df_wine.columns = [\n",
    "        'Class label', 'Alcohol', 'Malic acid', 'Ash',\n",
    "        'Alcalinity of ash', 'Magnesium', 'Total phenols',\n",
    "        'Flavanoids', 'Nonflavanoid phenols', 'Proanthocyanins',\n",
    "        'Color intensity', 'Hue', 'OD280/OD315 of diluted wines',\n",
    "        'Proline'\n",
    "    ]\n",
    "\n",
    "    print('Class labels', np.unique(df_wine['Class label']))\n",
    "    return df_wine"
   ]
  },
  {
   "cell_type": "code",
   "execution_count": 3,
   "id": "6b6e4cd0-1edf-4e88-80bc-e87a4bc8b96a",
   "metadata": {},
   "outputs": [
    {
     "name": "stdout",
     "output_type": "stream",
     "text": [
      "Class labels [1 2 3]\n"
     ]
    }
   ],
   "source": [
    "WINE_DF = read_wine_data()"
   ]
  },
  {
   "cell_type": "code",
   "execution_count": 4,
   "id": "02565915-618d-4fd8-9f90-a5cea271622c",
   "metadata": {},
   "outputs": [
    {
     "data": {
      "text/html": [
       "<div>\n",
       "<style scoped>\n",
       "    .dataframe tbody tr th:only-of-type {\n",
       "        vertical-align: middle;\n",
       "    }\n",
       "\n",
       "    .dataframe tbody tr th {\n",
       "        vertical-align: top;\n",
       "    }\n",
       "\n",
       "    .dataframe thead th {\n",
       "        text-align: right;\n",
       "    }\n",
       "</style>\n",
       "<table border=\"1\" class=\"dataframe\">\n",
       "  <thead>\n",
       "    <tr style=\"text-align: right;\">\n",
       "      <th></th>\n",
       "      <th>Class label</th>\n",
       "      <th>Alcohol</th>\n",
       "      <th>Malic acid</th>\n",
       "      <th>Ash</th>\n",
       "      <th>Alcalinity of ash</th>\n",
       "      <th>Magnesium</th>\n",
       "      <th>Total phenols</th>\n",
       "      <th>Flavanoids</th>\n",
       "      <th>Nonflavanoid phenols</th>\n",
       "      <th>Proanthocyanins</th>\n",
       "      <th>Color intensity</th>\n",
       "      <th>Hue</th>\n",
       "      <th>OD280/OD315 of diluted wines</th>\n",
       "      <th>Proline</th>\n",
       "    </tr>\n",
       "  </thead>\n",
       "  <tbody>\n",
       "    <tr>\n",
       "      <th>0</th>\n",
       "      <td>1</td>\n",
       "      <td>14.23</td>\n",
       "      <td>1.71</td>\n",
       "      <td>2.43</td>\n",
       "      <td>15.6</td>\n",
       "      <td>127</td>\n",
       "      <td>2.80</td>\n",
       "      <td>3.06</td>\n",
       "      <td>0.28</td>\n",
       "      <td>2.29</td>\n",
       "      <td>5.64</td>\n",
       "      <td>1.04</td>\n",
       "      <td>3.92</td>\n",
       "      <td>1065</td>\n",
       "    </tr>\n",
       "    <tr>\n",
       "      <th>1</th>\n",
       "      <td>1</td>\n",
       "      <td>13.20</td>\n",
       "      <td>1.78</td>\n",
       "      <td>2.14</td>\n",
       "      <td>11.2</td>\n",
       "      <td>100</td>\n",
       "      <td>2.65</td>\n",
       "      <td>2.76</td>\n",
       "      <td>0.26</td>\n",
       "      <td>1.28</td>\n",
       "      <td>4.38</td>\n",
       "      <td>1.05</td>\n",
       "      <td>3.40</td>\n",
       "      <td>1050</td>\n",
       "    </tr>\n",
       "    <tr>\n",
       "      <th>2</th>\n",
       "      <td>1</td>\n",
       "      <td>13.16</td>\n",
       "      <td>2.36</td>\n",
       "      <td>2.67</td>\n",
       "      <td>18.6</td>\n",
       "      <td>101</td>\n",
       "      <td>2.80</td>\n",
       "      <td>3.24</td>\n",
       "      <td>0.30</td>\n",
       "      <td>2.81</td>\n",
       "      <td>5.68</td>\n",
       "      <td>1.03</td>\n",
       "      <td>3.17</td>\n",
       "      <td>1185</td>\n",
       "    </tr>\n",
       "    <tr>\n",
       "      <th>3</th>\n",
       "      <td>1</td>\n",
       "      <td>14.37</td>\n",
       "      <td>1.95</td>\n",
       "      <td>2.50</td>\n",
       "      <td>16.8</td>\n",
       "      <td>113</td>\n",
       "      <td>3.85</td>\n",
       "      <td>3.49</td>\n",
       "      <td>0.24</td>\n",
       "      <td>2.18</td>\n",
       "      <td>7.80</td>\n",
       "      <td>0.86</td>\n",
       "      <td>3.45</td>\n",
       "      <td>1480</td>\n",
       "    </tr>\n",
       "    <tr>\n",
       "      <th>4</th>\n",
       "      <td>1</td>\n",
       "      <td>13.24</td>\n",
       "      <td>2.59</td>\n",
       "      <td>2.87</td>\n",
       "      <td>21.0</td>\n",
       "      <td>118</td>\n",
       "      <td>2.80</td>\n",
       "      <td>2.69</td>\n",
       "      <td>0.39</td>\n",
       "      <td>1.82</td>\n",
       "      <td>4.32</td>\n",
       "      <td>1.04</td>\n",
       "      <td>2.93</td>\n",
       "      <td>735</td>\n",
       "    </tr>\n",
       "  </tbody>\n",
       "</table>\n",
       "</div>"
      ],
      "text/plain": [
       "   Class label  Alcohol  Malic acid   Ash  Alcalinity of ash  Magnesium  \\\n",
       "0            1    14.23        1.71  2.43               15.6        127   \n",
       "1            1    13.20        1.78  2.14               11.2        100   \n",
       "2            1    13.16        2.36  2.67               18.6        101   \n",
       "3            1    14.37        1.95  2.50               16.8        113   \n",
       "4            1    13.24        2.59  2.87               21.0        118   \n",
       "\n",
       "   Total phenols  Flavanoids  Nonflavanoid phenols  Proanthocyanins  \\\n",
       "0           2.80        3.06                  0.28             2.29   \n",
       "1           2.65        2.76                  0.26             1.28   \n",
       "2           2.80        3.24                  0.30             2.81   \n",
       "3           3.85        3.49                  0.24             2.18   \n",
       "4           2.80        2.69                  0.39             1.82   \n",
       "\n",
       "   Color intensity   Hue  OD280/OD315 of diluted wines  Proline  \n",
       "0             5.64  1.04                          3.92     1065  \n",
       "1             4.38  1.05                          3.40     1050  \n",
       "2             5.68  1.03                          3.17     1185  \n",
       "3             7.80  0.86                          3.45     1480  \n",
       "4             4.32  1.04                          2.93      735  "
      ]
     },
     "execution_count": 4,
     "metadata": {},
     "output_type": "execute_result"
    }
   ],
   "source": [
    "WINE_DF.head()"
   ]
  },
  {
   "cell_type": "code",
   "execution_count": 5,
   "id": "65a8bae0-e2a9-48d9-880a-80ef39c6ded6",
   "metadata": {},
   "outputs": [],
   "source": [
    "def split_data_by_ratio(df_wine: pd.DataFrame, ratio=0.3) -> tuple:\n",
    "    X = df_wine.iloc[:, 1:].values \n",
    "    y = df_wine.iloc[:, 0].values\n",
    "    # explanation:\n",
    "    # test size: Divide the data into 30% test and 70% train\n",
    "    # random_state: A random seed for exact same split of data every time\n",
    "    # startify: make sure that train and test sample has data from all classes\n",
    "    X_train, X_test, y_train, y_test = train_test_split(\n",
    "        X, y,test_size=ratio, random_state=13, stratify=y  # ratio devides in 30,70 and stratify makes groups of the data according to the given column\n",
    "    )\n",
    "    return X_train, X_test, y_train, y_test"
   ]
  },
  {
   "cell_type": "code",
   "execution_count": 6,
   "id": "b98c36a7-fb2f-4dee-a39c-0cf11cc11f33",
   "metadata": {},
   "outputs": [],
   "source": [
    "X_train, X_test, Y_train, Y_test = split_data_by_ratio(WINE_DF) #providing the frame to the slit data function"
   ]
  },
  {
   "cell_type": "code",
   "execution_count": 7,
   "id": "da71856d-38a0-42ab-bdc4-d32c223e5e0c",
   "metadata": {},
   "outputs": [],
   "source": [
    "#scaling the data, all values between 0 and 1\n",
    "min_max_scaler = MinMaxScaler()\n",
    "min_max_scaler.fit(X_train) # the data is being calculated for the data frame\n",
    "\n",
    "X_train_norm = min_max_scaler.transform(X_train) # now the data frame is being transformed between 0 and 1\n",
    "X_test_norm = min_max_scaler.transform(X_test)"
   ]
  },
  {
   "cell_type": "code",
   "execution_count": 9,
   "id": "d7fd9177-b39a-4e25-ac3a-5055beabb278",
   "metadata": {},
   "outputs": [
    {
     "name": "stdout",
     "output_type": "stream",
     "text": [
      "Training accuracy: 0.9919354838709677\n",
      "Test accuracy: 0.9814814814814815\n"
     ]
    }
   ],
   "source": [
    "lr_model = LogisticRegression(solver='liblinear', multi_class='ovr')\n",
    "lr_model.fit(X_train_norm, Y_train)\n",
    "\n",
    "print('Training accuracy:', lr_model.score(X_train_norm, Y_train))\n",
    "print('Test accuracy:', lr_model.score(X_test_norm, Y_test))"
   ]
  },
  {
   "cell_type": "code",
   "execution_count": 29,
   "id": "6b04495e-28b7-4331-bf55-2fc803a78bf5",
   "metadata": {},
   "outputs": [],
   "source": [
    "def accuracy_manual(lr_model: LogisticRegression, X_train_norm: list, Y_train: list):\n",
    "    validation_df = pd.DataFrame(zip(lr_model.predict(X_train_norm), Y_train), columns=[\"predicted\", \"actual\"]) # predicting the data using the  logistic regression by passing the normalized dsta frame\n",
    "    validation_df[\"is_equal\"] = validation_df[\"predicted\"] == validation_df[\"actual\"] # testing if predicted 0 and 1 values are equal or not\n",
    "    acc = validation_df[\"is_equal\"].sum()/len(validation_df) # calculating the percentage of data\n",
    "    print(\"The accuracy is {}\".format(acc))"
   ]
  },
  {
   "cell_type": "code",
   "execution_count": 30,
   "id": "0e4c8e47-c8bb-4979-a3cc-994965e2e52f",
   "metadata": {},
   "outputs": [
    {
     "name": "stdout",
     "output_type": "stream",
     "text": [
      "The accuracy is 0.9919354838709677\n"
     ]
    }
   ],
   "source": [
    "accuracy_manual(lr_model, X_train_norm, Y_train) # using the accuracy function and providing the prevously calculated values"
   ]
  },
  {
   "cell_type": "code",
   "execution_count": 33,
   "id": "17d400b9-cfee-4d27-a544-bf6b38a02251",
   "metadata": {},
   "outputs": [
    {
     "data": {
      "text/html": [
       "<style>#sk-container-id-1 {color: black;background-color: white;}#sk-container-id-1 pre{padding: 0;}#sk-container-id-1 div.sk-toggleable {background-color: white;}#sk-container-id-1 label.sk-toggleable__label {cursor: pointer;display: block;width: 100%;margin-bottom: 0;padding: 0.3em;box-sizing: border-box;text-align: center;}#sk-container-id-1 label.sk-toggleable__label-arrow:before {content: \"▸\";float: left;margin-right: 0.25em;color: #696969;}#sk-container-id-1 label.sk-toggleable__label-arrow:hover:before {color: black;}#sk-container-id-1 div.sk-estimator:hover label.sk-toggleable__label-arrow:before {color: black;}#sk-container-id-1 div.sk-toggleable__content {max-height: 0;max-width: 0;overflow: hidden;text-align: left;background-color: #f0f8ff;}#sk-container-id-1 div.sk-toggleable__content pre {margin: 0.2em;color: black;border-radius: 0.25em;background-color: #f0f8ff;}#sk-container-id-1 input.sk-toggleable__control:checked~div.sk-toggleable__content {max-height: 200px;max-width: 100%;overflow: auto;}#sk-container-id-1 input.sk-toggleable__control:checked~label.sk-toggleable__label-arrow:before {content: \"▾\";}#sk-container-id-1 div.sk-estimator input.sk-toggleable__control:checked~label.sk-toggleable__label {background-color: #d4ebff;}#sk-container-id-1 div.sk-label input.sk-toggleable__control:checked~label.sk-toggleable__label {background-color: #d4ebff;}#sk-container-id-1 input.sk-hidden--visually {border: 0;clip: rect(1px 1px 1px 1px);clip: rect(1px, 1px, 1px, 1px);height: 1px;margin: -1px;overflow: hidden;padding: 0;position: absolute;width: 1px;}#sk-container-id-1 div.sk-estimator {font-family: monospace;background-color: #f0f8ff;border: 1px dotted black;border-radius: 0.25em;box-sizing: border-box;margin-bottom: 0.5em;}#sk-container-id-1 div.sk-estimator:hover {background-color: #d4ebff;}#sk-container-id-1 div.sk-parallel-item::after {content: \"\";width: 100%;border-bottom: 1px solid gray;flex-grow: 1;}#sk-container-id-1 div.sk-label:hover label.sk-toggleable__label {background-color: #d4ebff;}#sk-container-id-1 div.sk-serial::before {content: \"\";position: absolute;border-left: 1px solid gray;box-sizing: border-box;top: 0;bottom: 0;left: 50%;z-index: 0;}#sk-container-id-1 div.sk-serial {display: flex;flex-direction: column;align-items: center;background-color: white;padding-right: 0.2em;padding-left: 0.2em;position: relative;}#sk-container-id-1 div.sk-item {position: relative;z-index: 1;}#sk-container-id-1 div.sk-parallel {display: flex;align-items: stretch;justify-content: center;background-color: white;position: relative;}#sk-container-id-1 div.sk-item::before, #sk-container-id-1 div.sk-parallel-item::before {content: \"\";position: absolute;border-left: 1px solid gray;box-sizing: border-box;top: 0;bottom: 0;left: 50%;z-index: -1;}#sk-container-id-1 div.sk-parallel-item {display: flex;flex-direction: column;z-index: 1;position: relative;background-color: white;}#sk-container-id-1 div.sk-parallel-item:first-child::after {align-self: flex-end;width: 50%;}#sk-container-id-1 div.sk-parallel-item:last-child::after {align-self: flex-start;width: 50%;}#sk-container-id-1 div.sk-parallel-item:only-child::after {width: 0;}#sk-container-id-1 div.sk-dashed-wrapped {border: 1px dashed gray;margin: 0 0.4em 0.5em 0.4em;box-sizing: border-box;padding-bottom: 0.4em;background-color: white;}#sk-container-id-1 div.sk-label label {font-family: monospace;font-weight: bold;display: inline-block;line-height: 1.2em;}#sk-container-id-1 div.sk-label-container {text-align: center;}#sk-container-id-1 div.sk-container {/* jupyter's `normalize.less` sets `[hidden] { display: none; }` but bootstrap.min.css set `[hidden] { display: none !important; }` so we also need the `!important` here to be able to override the default hidden behavior on the sphinx rendered scikit-learn.org. See: https://github.com/scikit-learn/scikit-learn/issues/21755 */display: inline-block !important;position: relative;}#sk-container-id-1 div.sk-text-repr-fallback {display: none;}</style><div id=\"sk-container-id-1\" class=\"sk-top-container\"><div class=\"sk-text-repr-fallback\"><pre>RandomForestClassifier(n_estimators=500, random_state=1)</pre><b>In a Jupyter environment, please rerun this cell to show the HTML representation or trust the notebook. <br />On GitHub, the HTML representation is unable to render, please try loading this page with nbviewer.org.</b></div><div class=\"sk-container\" hidden><div class=\"sk-item\"><div class=\"sk-estimator sk-toggleable\"><input class=\"sk-toggleable__control sk-hidden--visually\" id=\"sk-estimator-id-1\" type=\"checkbox\" checked><label for=\"sk-estimator-id-1\" class=\"sk-toggleable__label sk-toggleable__label-arrow\">RandomForestClassifier</label><div class=\"sk-toggleable__content\"><pre>RandomForestClassifier(n_estimators=500, random_state=1)</pre></div></div></div></div></div>"
      ],
      "text/plain": [
       "RandomForestClassifier(n_estimators=500, random_state=1)"
      ]
     },
     "execution_count": 33,
     "metadata": {},
     "output_type": "execute_result"
    }
   ],
   "source": [
    "forest = RandomForestClassifier(n_estimators=500, random_state=1)\n",
    "forest.fit(X_train, Y_train) # providing the same data to random forest "
   ]
  },
  {
   "cell_type": "code",
   "execution_count": 54,
   "id": "d730be3e-5eea-4d1a-a5d8-bde2775818d6",
   "metadata": {},
   "outputs": [
    {
     "name": "stdout",
     "output_type": "stream",
     "text": [
      " 1) Color intensity                0.180033\n",
      " 2) Proline                        0.160545\n",
      " 3) Flavanoids                     0.141453\n",
      " 4) Alcohol                        0.128205\n",
      " 5) OD280/OD315 of diluted wines   0.118041\n",
      " 6) Total phenols                  0.062422\n",
      " 7) Hue                            0.060727\n",
      " 8) Alcalinity of ash              0.041400\n",
      " 9) Magnesium                      0.031926\n",
      "10) Proanthocyanins                0.025657\n",
      "11) Malic acid                     0.021687\n",
      "12) Nonflavanoid phenols           0.014125\n",
      "13) Ash                            0.013777\n"
     ]
    },
    {
     "data": {
      "image/png": "[encoded data removed]",
      "text/plain": [
       "<Figure size 432x288 with 1 Axes>"
      ]
     },
     "metadata": {
      "needs_background": "light"
     },
     "output_type": "display_data"
    }
   ],
   "source": [
    "feat_labels = WINE_DF.columns[1:] # labeling using the class column from data frame\n",
    "importances = forest.feature_importances_\n",
    "\n",
    "indices = np.argsort(importances)[::-1] # sorting according to their imporance\n",
    "\n",
    "for f in range(X_train.shape[1]):\n",
    "    print(\"%2d) %-*s %f\" % (f + 1, 30,  # applying formula\n",
    "                            feat_labels[indices[f]], \n",
    "                            importances[indices[f]]))\n",
    "\n",
    "plt.title('Feature Importance')\n",
    "plt.bar(range(X_train.shape[1]), # creating the plot\n",
    "        importances[indices],\n",
    "        align='center')\n",
    "\n",
    "plt.xticks(range(X_train.shape[1]), \n",
    "           feat_labels[indices], rotation=90) # providing the lables along x axis\n",
    "plt.xlim([-1, X_train.shape[1]]) #providing xlim\n",
    "plt.tight_layout()\n",
    "#plt.savefig('images/04_09.png', dpi=300)\n",
    "plt.show()"
   ]
  },
  {
   "cell_type": "code",
   "execution_count": 56,
   "id": "b0d1080a-db22-492c-82f8-29901a18f3b8",
   "metadata": {},
   "outputs": [
    {
     "name": "stdout",
     "output_type": "stream",
     "text": [
      "Number of features that meet this threshold criterion: 5\n"
     ]
    }
   ],
   "source": [
    "sfm = SelectFromModel(forest, threshold=0.1, prefit=True) #selecting features based on importance weights\n",
    "\n",
    "X_selected = sfm.transform(X_train) # ransforming the selected data from the forest modle\n",
    "print('Number of features that meet this threshold criterion:', X_selected.shape[1])"
   ]
  },
  {
   "cell_type": "code",
   "execution_count": 57,
   "id": "7f82d90c-e02b-4a63-b77a-48072fea804c",
   "metadata": {},
   "outputs": [
    {
     "name": "stdout",
     "output_type": "stream",
     "text": [
      " 1) Color intensity                0.180033\n",
      " 2) Proline                        0.160545\n",
      " 3) Flavanoids                     0.141453\n",
      " 4) Alcohol                        0.128205\n",
      " 5) OD280/OD315 of diluted wines   0.118041\n"
     ]
    }
   ],
   "source": [
    "for f in range(X_selected.shape[1]):\n",
    "    print(\"%2d) %-*s %f\" % (f + 1, 30, \n",
    "                            feat_labels[indices[f]], \n",
    "                            importances[indices[f]]))"
   ]
  },
  {
   "cell_type": "code",
   "execution_count": 60,
   "id": "a1a2ab05-0898-4770-95f6-f69eb61e3731",
   "metadata": {},
   "outputs": [],
   "source": [
    "# taking the 6 important features which has greater impact according to the finding\n",
    "SUBSET_DF = WINE_DF[[\"Class label\",\"Color intensity\", \"Proline\", \"Flavanoids\", \"Alcohol\", \"OD280/OD315 of diluted wines\",]].copy()"
   ]
  },
  {
   "cell_type": "code",
   "execution_count": 61,
   "id": "49bb78b3-49f5-4503-a9c4-b73b85013b50",
   "metadata": {},
   "outputs": [
    {
     "data": {
      "text/html": [
       "<div>\n",
       "<style scoped>\n",
       "    .dataframe tbody tr th:only-of-type {\n",
       "        vertical-align: middle;\n",
       "    }\n",
       "\n",
       "    .dataframe tbody tr th {\n",
       "        vertical-align: top;\n",
       "    }\n",
       "\n",
       "    .dataframe thead th {\n",
       "        text-align: right;\n",
       "    }\n",
       "</style>\n",
       "<table border=\"1\" class=\"dataframe\">\n",
       "  <thead>\n",
       "    <tr style=\"text-align: right;\">\n",
       "      <th></th>\n",
       "      <th>Class label</th>\n",
       "      <th>Color intensity</th>\n",
       "      <th>Proline</th>\n",
       "      <th>Flavanoids</th>\n",
       "      <th>Alcohol</th>\n",
       "      <th>OD280/OD315 of diluted wines</th>\n",
       "    </tr>\n",
       "  </thead>\n",
       "  <tbody>\n",
       "    <tr>\n",
       "      <th>0</th>\n",
       "      <td>1</td>\n",
       "      <td>5.64</td>\n",
       "      <td>1065</td>\n",
       "      <td>3.06</td>\n",
       "      <td>14.23</td>\n",
       "      <td>3.92</td>\n",
       "    </tr>\n",
       "    <tr>\n",
       "      <th>1</th>\n",
       "      <td>1</td>\n",
       "      <td>4.38</td>\n",
       "      <td>1050</td>\n",
       "      <td>2.76</td>\n",
       "      <td>13.20</td>\n",
       "      <td>3.40</td>\n",
       "    </tr>\n",
       "    <tr>\n",
       "      <th>2</th>\n",
       "      <td>1</td>\n",
       "      <td>5.68</td>\n",
       "      <td>1185</td>\n",
       "      <td>3.24</td>\n",
       "      <td>13.16</td>\n",
       "      <td>3.17</td>\n",
       "    </tr>\n",
       "    <tr>\n",
       "      <th>3</th>\n",
       "      <td>1</td>\n",
       "      <td>7.80</td>\n",
       "      <td>1480</td>\n",
       "      <td>3.49</td>\n",
       "      <td>14.37</td>\n",
       "      <td>3.45</td>\n",
       "    </tr>\n",
       "    <tr>\n",
       "      <th>4</th>\n",
       "      <td>1</td>\n",
       "      <td>4.32</td>\n",
       "      <td>735</td>\n",
       "      <td>2.69</td>\n",
       "      <td>13.24</td>\n",
       "      <td>2.93</td>\n",
       "    </tr>\n",
       "  </tbody>\n",
       "</table>\n",
       "</div>"
      ],
      "text/plain": [
       "   Class label  Color intensity  Proline  Flavanoids  Alcohol  \\\n",
       "0            1             5.64     1065        3.06    14.23   \n",
       "1            1             4.38     1050        2.76    13.20   \n",
       "2            1             5.68     1185        3.24    13.16   \n",
       "3            1             7.80     1480        3.49    14.37   \n",
       "4            1             4.32      735        2.69    13.24   \n",
       "\n",
       "   OD280/OD315 of diluted wines  \n",
       "0                          3.92  \n",
       "1                          3.40  \n",
       "2                          3.17  \n",
       "3                          3.45  \n",
       "4                          2.93  "
      ]
     },
     "execution_count": 61,
     "metadata": {},
     "output_type": "execute_result"
    }
   ],
   "source": [
    "SUBSET_DF.head()"
   ]
  },
  {
   "cell_type": "code",
   "execution_count": 62,
   "id": "53ebdf58-6f20-42b6-91f5-eea446e00cbb",
   "metadata": {},
   "outputs": [],
   "source": [
    "X_train, X_test, Y_train, Y_test = split_data_by_ratio(SUBSET_DF) # providing the data frame to the split data function"
   ]
  },
  {
   "cell_type": "code",
   "execution_count": 63,
   "id": "18c556fb-faa1-4f74-96cd-fefcdd60b527",
   "metadata": {},
   "outputs": [],
   "source": [
    "# scailing the data between 0 and 1\n",
    "min_max_scaler = MinMaxScaler()\n",
    "min_max_scaler.fit(X_train)\n",
    "\n",
    "X_train_norm = min_max_scaler.transform(X_train)\n",
    "X_test_norm = min_max_scaler.transform(X_test)"
   ]
  },
  {
   "cell_type": "code",
   "execution_count": 65,
   "id": "64364b90-9e8e-4109-96a0-cace94747294",
   "metadata": {},
   "outputs": [
    {
     "name": "stdout",
     "output_type": "stream",
     "text": [
      "Training accuracy: 0.9516129032258065\n",
      "Test accuracy: 0.9814814814814815\n"
     ]
    }
   ],
   "source": [
    "# applying the logistic regression again using only the 6 important columns\n",
    "lr_model = LogisticRegression(solver='liblinear', multi_class='ovr') \n",
    "lr_model.fit(X_train_norm, Y_train)\n",
    "\n",
    "print('Training accuracy:', lr_model.score(X_train_norm, Y_train))\n",
    "print('Test accuracy:', lr_model.score(X_test_norm, Y_test))"
   ]
  }
 ],
 "metadata": {
  "kernelspec": {
   "display_name": "Python 3 (ipykernel)",
   "language": "python",
   "name": "python3"
  },
  "language_info": {
   "codemirror_mode": {
    "name": "ipython",
    "version": 3
   },
   "file_extension": ".py",
   "mimetype": "text/x-python",
   "name": "python",
   "nbconvert_exporter": "python",
   "pygments_lexer": "ipython3",
   "version": "3.9.10"
  }
 },
 "nbformat": 4,
 "nbformat_minor": 5
}
